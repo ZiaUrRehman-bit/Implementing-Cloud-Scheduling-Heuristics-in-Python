{
 "cells": [
  {
   "attachments": {},
   "cell_type": "markdown",
   "metadata": {},
   "source": [
    "### **<center><font style=\"color:rgb(0,100,255)\">Min-Min Cloud Scheduling Algorithm</font> </center>**"
   ]
  },
  {
   "attachments": {},
   "cell_type": "markdown",
   "metadata": {},
   "source": [
    "Min-Min is a cloud job scheduling algorithm that aims to minimize the makespan (total time taken to complete all the jobs) by selecting the job with the minimum estimated completion time at each step. The algorithm works as follows:\n",
    "\n",
    "1. The jobs are ranked based on their estimated completion time (ECT), with the job having the lowest ECT being ranked first.\n",
    "\n",
    "2. The algorithm selects the first job in the ranked list and assigns it to the cloud server with the lowest workload.\n",
    "\n",
    "3. If there are multiple servers with the same workload, the algorithm assigns the job to the server with the lowest ECT for that job.\n",
    "\n",
    "4. The algorithm then moves on to the next job in the ranked list and repeats the process until all the jobs are assigned.\n",
    "\n",
    "5. The final makespan is calculated based on the completion times of the jobs assigned to each server.\n",
    "\n",
    "The Min-Min algorithm is useful in minimizing the makespan, but it may not always result in optimal resource utilization, as it does not take into account the available resources or the load on each server.\n"
   ]
  },
  {
   "cell_type": "code",
   "execution_count": 3,
   "metadata": {},
   "outputs": [
    {
     "name": "stdout",
     "output_type": "stream",
     "text": [
      "Min-Min makespan: 6\n",
      "Jobs assigned to servers: [[('J4', 1), ('J2', 5)], [('J1', 2)], [('J3', 3)], [('J5', 4)]]\n"
     ]
    }
   ],
   "source": [
    "# define a function to calculate the makespan\n",
    "def makespan(jobs, servers):\n",
    "    max_time = 0\n",
    "    for server in servers:\n",
    "        server_time = 0\n",
    "        for job in server:\n",
    "            server_time += job[1]\n",
    "        max_time = max(max_time, server_time)\n",
    "    return max_time\n",
    "\n",
    "# define a function to assign jobs to servers\n",
    "def min_min(jobs, servers):\n",
    "    # sort the jobs based on their ECT\n",
    "    jobs.sort(key=lambda x: x[1])\n",
    "    # assign jobs to servers\n",
    "    for job in jobs:\n",
    "        min_server = None\n",
    "        min_time = float('inf')\n",
    "        # find the server with the lowest workload\n",
    "        for i, server in enumerate(servers):\n",
    "            server_time = sum([x[1] for x in server])\n",
    "            if server_time < min_time:\n",
    "                min_server = i\n",
    "                min_time = server_time\n",
    "        # assign the job to the selected server\n",
    "        servers[min_server].append(job)\n",
    "    # calculate the makespan\n",
    "    return makespan(jobs, servers)\n",
    "\n",
    "# define the jobs and servers\n",
    "jobs = [('J1', 2), ('J2', 5), ('J3', 3), ('J4', 1), ('J5', 4)]\n",
    "servers = [[], [], [], []]\n",
    "\n",
    "# run the Min-Min algorithm\n",
    "min_makespan = min_min(jobs, servers)\n",
    "print(f\"Min-Min makespan: {min_makespan}\")\n",
    "print(f\"Jobs assigned to servers: {servers}\")\n"
   ]
  },
  {
   "cell_type": "code",
   "execution_count": null,
   "metadata": {},
   "outputs": [],
   "source": []
  }
 ],
 "metadata": {
  "kernelspec": {
   "display_name": "Python 3",
   "language": "python",
   "name": "python3"
  },
  "language_info": {
   "codemirror_mode": {
    "name": "ipython",
    "version": 3
   },
   "file_extension": ".py",
   "mimetype": "text/x-python",
   "name": "python",
   "nbconvert_exporter": "python",
   "pygments_lexer": "ipython3",
   "version": "3.9.1"
  },
  "orig_nbformat": 4,
  "vscode": {
   "interpreter": {
    "hash": "b671c20432fcd147198c92e7f072af9e705f087eb990bee22b07f08caab9f630"
   }
  }
 },
 "nbformat": 4,
 "nbformat_minor": 2
}
